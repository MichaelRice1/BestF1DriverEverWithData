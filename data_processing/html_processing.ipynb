{
 "cells": [
  {
   "cell_type": "code",
   "execution_count": 38,
   "metadata": {},
   "outputs": [],
   "source": [
    "from bs4 import BeautifulSoup\n",
    "import json\n",
    "import os\n",
    "\n",
    "\n"
   ]
  },
  {
   "cell_type": "code",
   "execution_count": 15,
   "metadata": {},
   "outputs": [],
   "source": [
    "def extract_f1_race_data(html_content):\n",
    "    try:\n",
    "        soup = BeautifulSoup(html_content, 'html.parser')\n",
    "        race_data = {}\n",
    "\n",
    "        # Extract basic race details\n",
    "        race_data['title'] = soup.title.string.strip() if soup.title else \"Unknown\"\n",
    "        race_info = soup.find('div', {'id': 'info-pane'})\n",
    "        if race_info:\n",
    "            race_data['race_name'] = race_info.find('h1').get_text(strip=True)\n",
    "            stats = race_info.find_all('div', class_='stats')\n",
    "            for stat in stats:\n",
    "                title = stat.find('div', class_='title').get_text(strip=True)\n",
    "                content = stat.find('div', class_='content').get_text(strip=True)\n",
    "                race_data[title.lower().replace(' ', '_')] = content\n",
    "\n",
    "        # Extract driver and team performance data\n",
    "        race_data['performance'] = {}\n",
    "        performance_blocks = soup.find_all('div', class_='stats-block')\n",
    "        for block in performance_blocks:\n",
    "            title = block.find('div', class_='title').get_text(strip=True)\n",
    "            value = block.find('div', class_='value').get_text(strip=True)\n",
    "            race_data['performance'][title.lower().replace(' ', '_')] = value\n",
    "\n",
    "        # Extract session results tables\n",
    "        race_data['results'] = {}\n",
    "        for table in soup.find_all('div', class_='table-wrapper'):\n",
    "            # Look for the session title based on the nearest section header (id attribute)\n",
    "            session_header = table.find_previous('div', {'id': True})\n",
    "            if session_header:\n",
    "                session_id = session_header['id']\n",
    "                if session_id not in race_data['results']:\n",
    "                    race_data['results'][session_id] = []\n",
    "\n",
    "                headers = [th.get_text(strip=True) for th in table.find('thead').find_all('th')]\n",
    "                rows = table.find('tbody').find_all('tr')\n",
    "                for row in rows:\n",
    "                    data = [td.get_text(strip=True) for td in row.find_all('td')]\n",
    "                    race_data['results'][session_id].append(dict(zip(headers, data)))\n",
    "\n",
    "        return race_data\n",
    "\n",
    "    except Exception as e:\n",
    "        return {\"error\": str(e)}"
   ]
  },
  {
   "cell_type": "code",
   "execution_count": 37,
   "metadata": {},
   "outputs": [
    {
     "name": "stdout",
     "output_type": "stream",
     "text": [
      "Processed races saved in: f1_all_seasons_results\n"
     ]
    }
   ],
   "source": [
    "\n",
    "\n",
    "def process_all_races(directory_path, output_base_path):\n",
    "\tfor year_dir in os.listdir(directory_path):\n",
    "\t\tyear_path = os.path.join(directory_path, year_dir)\n",
    "\t\tif os.path.isdir(year_path):\n",
    "\t\t\tfor race_name in os.listdir(year_path):\n",
    "\t\t\t\trace_path = os.path.join(year_path, race_name)\n",
    "\t\t\t\tif os.path.isdir(race_path):\n",
    "\t\t\t\t\tfor file in os.listdir(race_path):\n",
    "\t\t\t\t\t\tif file.endswith(\".html\"):\n",
    "\t\t\t\t\t\t\ttry:\n",
    "\t\t\t\t\t\t\t\twith open(os.path.join(race_path, file), 'r', encoding='utf-8') as file:\n",
    "\t\t\t\t\t\t\t\t\thtml_content = file.read()\n",
    "\t\t\t\t\t\t\t\trace_data = extract_f1_race_data(html_content)\n",
    "\n",
    "\t\t\t\t\t\t\t\t# Create output directory structure\n",
    "\t\t\t\t\t\t\t\toutput_year_path = os.path.join(output_base_path, year_dir)\n",
    "\t\t\t\t\t\t\t\tos.makedirs(output_year_path, exist_ok=True)\n",
    "\n",
    "\t\t\t\t\t\t\t\t# Save race data as JSON\n",
    "\t\t\t\t\t\t\t\toutput_file = os.path.join(output_year_path, f\"{os.path.splitext(race_name)[0]}.json\")\n",
    "\n",
    "\t\t\t\t\t\t\t\twith open(output_file, 'w', encoding='utf-8') as json_file:\n",
    "\t\t\t\t\t\t\t\t\tjson.dump(race_data, json_file, indent=4, ensure_ascii=False)\n",
    "\t\t\t\t\t\t\texcept Exception as e:\n",
    "\t\t\t\t\t\t\t\tprint(f\"Error processing {race_path}: {e}\")\n",
    "\n",
    "\tprint(f\"Processed races saved in: {output_base_path}\")\n",
    "\n",
    "# Usage Example\n",
    "directory_path = \"f1_all_seasons_html\"\n",
    "output_base_path = \"f1_all_seasons_results\"\n",
    "process_all_races(directory_path, output_base_path)"
   ]
  }
 ],
 "metadata": {
  "kernelspec": {
   "display_name": "base",
   "language": "python",
   "name": "python3"
  },
  "language_info": {
   "codemirror_mode": {
    "name": "ipython",
    "version": 3
   },
   "file_extension": ".py",
   "mimetype": "text/x-python",
   "name": "python",
   "nbconvert_exporter": "python",
   "pygments_lexer": "ipython3",
   "version": "3.12.4"
  }
 },
 "nbformat": 4,
 "nbformat_minor": 2
}
